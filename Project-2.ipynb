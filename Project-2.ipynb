{
 "cells": [
  {
   "cell_type": "code",
   "execution_count": 14,
   "metadata": {
    "id": "YLzgaad7lCux"
   },
   "outputs": [],
   "source": [
    "## Import Utilities\n",
    "import os\n",
    "from google.colab import drive\n",
    "\n",
    "## Import Core files\n",
    "import numpy as np\n",
    "import librosa\n",
    "import tensorflow as tf\n",
    "import tensorflow_hub as hub\n",
    "from sklearn.model_selection import train_test_split\n",
    "from sklearn.preprocessing import LabelEncoder\n",
    "from tensorflow.keras.utils import to_categorical\n",
    "from tensorflow.keras.callbacks import EarlyStopping, ModelCheckpoint\n",
    "from tensorflow.keras.models import Sequential\n",
    "from tensorflow.keras.layers import Dense, Dropout"
   ]
  },
  {
   "cell_type": "code",
   "execution_count": null,
   "metadata": {
    "colab": {
     "base_uri": "https://localhost:8080/"
    },
    "collapsed": true,
    "id": "8IRpT6Ue-PSs",
    "outputId": "2eb6e1b6-55fc-4491-95e1-d8bbb985a64f"
   },
   "outputs": [],
   "source": [
    "# Upload genres.tar.gz to GOOGLE DRIVE and complete the Authorization flow\n",
    "drive.mount('/content/drive')\n",
    "#Execute shell command to UNtar and UNzip\n",
    "!tar -zxvf '/content/drive/MyDrive/genres.tar.gz'"
   ]
  },
  {
   "cell_type": "markdown",
   "metadata": {
    "id": "83AYMezziojU"
   },
   "source": [
    "# New section"
   ]
  },
  {
   "cell_type": "code",
   "execution_count": null,
   "metadata": {
    "id": "Kmt5ZtlzBhB4"
   },
   "outputs": [],
   "source": [
    "# YAMNet embedding extraction\n",
    "yamnet_model = hub.load('https://tfhub.dev/google/yamnet/1')\n",
    "\n",
    "def extract_yamnet_embedding(file_path):\n",
    "    try:\n",
    "        audio, sr = librosa.load(file_path, sr=16000, mono=True)\n",
    "        if len(audio) == 0:\n",
    "            print(\"Empty audio:\", file_path)\n",
    "            return None\n",
    "\n",
    "        waveform = tf.convert_to_tensor(audio, dtype=tf.float32)\n",
    "        scores, embeddings, spectrogram = yamnet_model(waveform)\n",
    "        mean_embedding = tf.reduce_mean(embeddings, axis=0)\n",
    "        return mean_embedding.numpy()\n",
    "    except Exception as e:\n",
    "        print(f\"Error processing {file_path}: {e}\")\n",
    "        return None"
   ]
  },
  {
   "cell_type": "code",
   "execution_count": null,
   "metadata": {
    "id": "6UUxjepJlU4v"
   },
   "outputs": [],
   "source": [
    "# Dataset Preparation using YAMNet embeddings\n",
    "def load_yamnet_data(dataset_path='/content/genres'):\n",
    "    features, labels = [], []\n",
    "    genres = [g for g in os.listdir(dataset_path) if os.path.isdir(os.path.join(dataset_path, g))]\n",
    "\n",
    "    print(f\"Genres found: {genres}\")\n",
    "\n",
    "    for genre in genres:\n",
    "        genre_path = os.path.join(dataset_path, genre)\n",
    "        # Ensure files are listed correctly, potentially looking into subdirectories if needed\n",
    "        files = [f for f in os.listdir(genre_path) if f.endswith('.au')]\n",
    "        print(f\"{genre}: {len(files)} files\")\n",
    "\n",
    "        for file in files:\n",
    "            file_path = os.path.join(genre_path, file)\n",
    "            embedding = extract_yamnet_embedding(file_path)\n",
    "            if embedding is not None:\n",
    "                features.append(embedding)\n",
    "                labels.append(genre)\n",
    "            else:\n",
    "                print(f\"Skipped file due to empty embedding: {file_path}\")\n",
    "\n",
    "    print(f\"\\n Extracted {len(features)} valid audio embeddings.\")\n",
    "    return np.array(features), np.array(labels)"
   ]
  },
  {
   "cell_type": "code",
   "execution_count": null,
   "metadata": {
    "colab": {
     "base_uri": "https://localhost:8080/"
    },
    "id": "ec33IHXjv0gh",
    "outputId": "4c9155ae-da8b-46bc-b6c2-f62d8e62171c"
   },
   "outputs": [],
   "source": [
    "# [VRFY] Folder Lists\n",
    "print(\"Top-level folders:\", os.listdir('.'))\n",
    "if os.path.exists('genres'):\n",
    "    print(\"Files/Dir Inside genres folder:\", os.listdir('genres'))"
   ]
  },
  {
   "cell_type": "code",
   "execution_count": 20,
   "metadata": {
    "id": "JncdKgTulZcG"
   },
   "outputs": [],
   "source": [
    "# Label Encoding and TRAIN TEST split\n",
    "def prepare_data(X, y):\n",
    "    encoder = LabelEncoder()\n",
    "    y_encoded = encoder.fit_transform(y)\n",
    "    y_categorical = to_categorical(y_encoded)\n",
    "    return train_test_split(X, y_categorical, test_size=0.2, random_state=42), encoder\n"
   ]
  },
  {
   "cell_type": "code",
   "execution_count": 22,
   "metadata": {
    "id": "BryQBnqCldO1"
   },
   "outputs": [],
   "source": [
    "# Model Building with YAMNet embeddings\n",
    "def build_model(input_shape, num_classes):\n",
    "    model = Sequential()\n",
    "    model.add(Dense(256, activation='relu', input_shape=(input_shape,)))\n",
    "    model.add(Dropout(0.4))\n",
    "    model.add(Dense(128, activation='relu'))\n",
    "    model.add(Dropout(0.4))\n",
    "    model.add(Dense(num_classes, activation='softmax'))\n",
    "#Model COMPILE\n",
    "    model.compile(optimizer='adam', loss='categorical_crossentropy', metrics=['accuracy'])\n",
    "    return model"
   ]
  },
  {
   "cell_type": "code",
   "execution_count": null,
   "metadata": {
    "colab": {
     "base_uri": "https://localhost:8080/",
     "height": 604
    },
    "id": "9-WFHYoylgg9",
    "outputId": "549af8df-0da9-46d5-d6da-8162bf5d03f9"
   },
   "outputs": [],
   "source": [
    "# MAIN LOOP\n",
    "if __name__ == \"__main__\":\n",
    "    print(\"Extracting embeddings from audio...\")\n",
    "    X, y = load_yamnet_data()\n",
    "    print(f\"Loaded {len(X)} samples with shape {X[0].shape}\")\n",
    "    (X_train, X_val, y_train, y_val), label_encoder = prepare_data(X, y)\n",
    "    model = build_model(X.shape[1], y_train.shape[1])\n",
    "    model.summary()"
   ]
  },
  {
   "cell_type": "code",
   "execution_count": null,
   "metadata": {
    "colab": {
     "base_uri": "https://localhost:8080/"
    },
    "id": "zJVtP--7qAYn",
    "outputId": "8567ca8b-ac62-4584-ad07-66d47b379886"
   },
   "outputs": [],
   "source": [
    "    # Callbacks: Early stopping and best model checkpointing\n",
    "    early_stop = EarlyStopping(monitor='val_loss', patience=10, restore_best_weights=True)\n",
    "    checkpoint = ModelCheckpoint(\"best_model.h5\", monitor='val_accuracy', save_best_only=True, mode='max', verbose=1)\n",
    "\n",
    "    print(\"Training model...\")\n",
    "    history = model.fit(\n",
    "        X_train, y_train,\n",
    "        epochs=100,\n",
    "        batch_size=32,\n",
    "        validation_data=(X_val, y_val),\n",
    "        callbacks=[early_stop, checkpoint]\n",
    "    )\n",
    "\n",
    "    # Final evaluation\n",
    "    val_loss, val_acc = model.evaluate(X_val, y_val)\n",
    "    print(f\"\\n=======\\n Final Validation Accuracy: {val_acc:.4f}\\n=======\\n\")"
   ]
  }
 ],
 "metadata": {
  "colab": {
   "provenance": []
  },
  "kernelspec": {
   "display_name": "Python 3",
   "name": "python3"
  },
  "language_info": {
   "name": "python"
  }
 },
 "nbformat": 4,
 "nbformat_minor": 0
}
